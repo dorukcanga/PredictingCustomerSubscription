{
 "cells": [
  {
   "cell_type": "code",
   "execution_count": 54,
   "id": "177c0b92-b0db-46b4-a273-8e7407963fff",
   "metadata": {},
   "outputs": [],
   "source": [
    "import pandas as pd\n",
    "import numpy as np\n",
    "import random\n",
    "import matplotlib.pyplot as plt\n",
    "import seaborn as sns\n",
    "\n",
    "from sklearn.linear_model import LogisticRegression\n",
    "from sklearn.neighbors import KNeighborsClassifier\n",
    "from sklearn.preprocessing import OneHotEncoder, KBinsDiscretizer, StandardScaler, MinMaxScaler, FunctionTransformer\n",
    "from sklearn.ensemble import RandomForestClassifier\n",
    "from sklearn.pipeline import Pipeline\n",
    "from sklearn.compose import ColumnTransformer\n",
    "from sklearn.model_selection import train_test_split, StratifiedKFold, GridSearchCV, RandomizedSearchCV\n",
    "from sklearn.metrics import roc_auc_score, confusion_matrix, roc_curve\n",
    "from sklearn.ensemble import StackingClassifier, VotingClassifier\n",
    "\n",
    "from imblearn.over_sampling import RandomOverSampler, SMOTE, SMOTENC\n",
    "from imblearn.pipeline import Pipeline as imb_pipeline\n",
    "from category_encoders.target_encoder import TargetEncoder\n",
    "\n",
    "import lightgbm as lgb\n",
    "import xgboost as xgb\n",
    "import optuna\n",
    "from optuna.integration import LightGBMPruningCallback\n",
    "\n",
    "import warnings\n",
    "warnings.filterwarnings('ignore')\n",
    "pd.options.mode.chained_assignment = None\n",
    "\n",
    "%matplotlib inline"
   ]
  },
  {
   "cell_type": "markdown",
   "id": "23ce789b-fc6e-412a-aa34-8ba5fffaae28",
   "metadata": {},
   "source": [
    "# User Defined functions"
   ]
  },
  {
   "cell_type": "code",
   "execution_count": 63,
   "id": "b8560f21-d5bd-4814-8e70-6d62f662beeb",
   "metadata": {},
   "outputs": [],
   "source": [
    "def plot_cf(cf_matrix):\n",
    "    ax = sns.heatmap(cf_matrix, annot=True, cmap='Blues')\n",
    "\n",
    "    ax.set_xlabel('\\nPredicted Values')\n",
    "    ax.set_ylabel('Actual Values ');\n",
    "\n",
    "    ## Ticket labels - List must be in alphabetical order\n",
    "    ax.xaxis.set_ticklabels(['False','True'])\n",
    "    ax.yaxis.set_ticklabels(['False','True'])\n",
    "\n",
    "    ## Display the visualization of the Confusion Matrix.\n",
    "    plt.show()"
   ]
  },
  {
   "cell_type": "markdown",
   "id": "254faf2c-8c40-49b7-9586-4dce59ecfda8",
   "metadata": {},
   "source": [
    "# Read Data"
   ]
  },
  {
   "cell_type": "code",
   "execution_count": 2,
   "id": "f3571845-ae2b-4887-b140-d48199a916f8",
   "metadata": {},
   "outputs": [],
   "source": [
    "train_data = pd.read_pickle('./data/train_file_eng.pkl')"
   ]
  },
  {
   "cell_type": "code",
   "execution_count": 4,
   "id": "88986779-dd25-4e50-a69a-840ef6334955",
   "metadata": {},
   "outputs": [
    {
     "data": {
      "text/plain": [
       "(32910, 17)"
      ]
     },
     "execution_count": 4,
     "metadata": {},
     "output_type": "execute_result"
    }
   ],
   "source": [
    "train_data.shape"
   ]
  },
  {
   "cell_type": "code",
   "execution_count": 3,
   "id": "34575075-ed4f-4677-91c0-71ef59666a9f",
   "metadata": {},
   "outputs": [
    {
     "data": {
      "text/html": [
       "<div>\n",
       "<style scoped>\n",
       "    .dataframe tbody tr th:only-of-type {\n",
       "        vertical-align: middle;\n",
       "    }\n",
       "\n",
       "    .dataframe tbody tr th {\n",
       "        vertical-align: top;\n",
       "    }\n",
       "\n",
       "    .dataframe thead th {\n",
       "        text-align: right;\n",
       "    }\n",
       "</style>\n",
       "<table border=\"1\" class=\"dataframe\">\n",
       "  <thead>\n",
       "    <tr style=\"text-align: right;\">\n",
       "      <th></th>\n",
       "      <th>age</th>\n",
       "      <th>job</th>\n",
       "      <th>marital</th>\n",
       "      <th>education</th>\n",
       "      <th>default</th>\n",
       "      <th>housing</th>\n",
       "      <th>loan</th>\n",
       "      <th>contact</th>\n",
       "      <th>month</th>\n",
       "      <th>day_of_week</th>\n",
       "      <th>duration</th>\n",
       "      <th>campaign</th>\n",
       "      <th>previous</th>\n",
       "      <th>poutcome</th>\n",
       "      <th>y</th>\n",
       "      <th>y_encoded</th>\n",
       "      <th>quarter</th>\n",
       "    </tr>\n",
       "  </thead>\n",
       "  <tbody>\n",
       "    <tr>\n",
       "      <th>0</th>\n",
       "      <td>49</td>\n",
       "      <td>blue-collar</td>\n",
       "      <td>married</td>\n",
       "      <td>basic.9y</td>\n",
       "      <td>unknown</td>\n",
       "      <td>no</td>\n",
       "      <td>no</td>\n",
       "      <td>cellular</td>\n",
       "      <td>nov</td>\n",
       "      <td>wed</td>\n",
       "      <td>227</td>\n",
       "      <td>4</td>\n",
       "      <td>0</td>\n",
       "      <td>nonexistent</td>\n",
       "      <td>no</td>\n",
       "      <td>0</td>\n",
       "      <td>q4</td>\n",
       "    </tr>\n",
       "  </tbody>\n",
       "</table>\n",
       "</div>"
      ],
      "text/plain": [
       "   age          job  marital education  default housing loan   contact month  \\\n",
       "0   49  blue-collar  married  basic.9y  unknown      no   no  cellular   nov   \n",
       "\n",
       "  day_of_week  duration  campaign  previous     poutcome   y  y_encoded  \\\n",
       "0         wed       227         4         0  nonexistent  no          0   \n",
       "\n",
       "  quarter  \n",
       "0      q4  "
      ]
     },
     "execution_count": 3,
     "metadata": {},
     "output_type": "execute_result"
    }
   ],
   "source": [
    "train_data.head(1)"
   ]
  },
  {
   "cell_type": "code",
   "execution_count": 5,
   "id": "1419e6b4-557a-4ab7-841a-0920a763e006",
   "metadata": {},
   "outputs": [],
   "source": [
    "feature_set = ['age', 'job', 'education', 'default',\n",
    "               'contact', 'month', 'day_of_week', 'duration', 'campaign', 'previous',\n",
    "               'poutcome', 'quarter']\n",
    "\n",
    "cat_features = ['job', 'education', 'default',\n",
    "                'contact', 'month', 'day_of_week', 'poutcome', 'quarter']\n",
    "\n",
    "num_features = ['age', 'duration', 'campaign', 'previous']"
   ]
  },
  {
   "cell_type": "code",
   "execution_count": 6,
   "id": "40d8d757-990c-4d16-8ff2-e4089f55ebd8",
   "metadata": {},
   "outputs": [],
   "source": [
    "for col_name in cat_features:\n",
    "    train_data[col_name] = train_data[col_name].astype('category')"
   ]
  },
  {
   "cell_type": "markdown",
   "id": "a827f0e2-f632-47c6-b2f5-87d9b4a763c7",
   "metadata": {},
   "source": [
    "# Train Test Split"
   ]
  },
  {
   "cell_type": "code",
   "execution_count": 7,
   "id": "a06d233e-52cc-4518-b1b8-08494328caa1",
   "metadata": {},
   "outputs": [],
   "source": [
    "X_train, X_test, y_train, y_test = train_test_split(train_data[feature_set], train_data.y_encoded, random_state=24, test_size=0.2)"
   ]
  },
  {
   "cell_type": "code",
   "execution_count": 8,
   "id": "9aacda65-6be2-4fe0-b2cc-b1fe35a9afee",
   "metadata": {},
   "outputs": [],
   "source": [
    "X_train.reset_index(drop=True, inplace=True)\n",
    "X_test.reset_index(drop=True, inplace=True)\n",
    "y_train.reset_index(drop=True, inplace=True)\n",
    "y_test.reset_index(drop=True, inplace=True)"
   ]
  },
  {
   "cell_type": "code",
   "execution_count": 9,
   "id": "6c8484a0-74e6-48fe-930b-135d2e2b6905",
   "metadata": {},
   "outputs": [
    {
     "data": {
      "text/plain": [
       "((26328, 12), (6582, 12))"
      ]
     },
     "execution_count": 9,
     "metadata": {},
     "output_type": "execute_result"
    }
   ],
   "source": [
    "X_train.shape, X_test.shape"
   ]
  },
  {
   "cell_type": "markdown",
   "id": "76553afd-5b9a-4951-aa75-4cdeaa97afde",
   "metadata": {},
   "source": [
    "# Random Oversampling"
   ]
  },
  {
   "cell_type": "code",
   "execution_count": 123,
   "id": "da2fecfd-1dd8-4cd2-b95d-d9047aa42045",
   "metadata": {},
   "outputs": [],
   "source": [
    "sampler = RandomOverSampler(sampling_strategy='auto', random_state=24)\n",
    "X_train_balanced, y_train_balanced = sampler.fit_resample(X_train, y_train)"
   ]
  },
  {
   "cell_type": "markdown",
   "id": "bbbcb397-9272-4f49-9b45-9dfbc5730bc6",
   "metadata": {},
   "source": [
    "# LightGBM"
   ]
  },
  {
   "cell_type": "code",
   "execution_count": 22,
   "id": "c75fab80-872a-42f0-8428-b4768ca75cca",
   "metadata": {},
   "outputs": [],
   "source": [
    "lgb_hyperparam_dict = {\n",
    "                     'colsample_bytree': 0.7029693318019654,\n",
    "                     'learning_rate': 0.11333569688388861,\n",
    "                     'max_depth': 7,\n",
    "                     'min_child_samples': 80,\n",
    "                     'n_estimators': 100,\n",
    "                     'num_leaves': 19,\n",
    "                     'reg_alpha': 4,\n",
    "                     'reg_lambda': 0,\n",
    "                     'params_subsample': 0.5170860303134346,\n",
    "                      }"
   ]
  },
  {
   "cell_type": "code",
   "execution_count": 23,
   "id": "e52545a0-f526-4be9-bd31-22bf50d09921",
   "metadata": {},
   "outputs": [
    {
     "name": "stdout",
     "output_type": "stream",
     "text": [
      "[LightGBM] [Warning] Unknown parameter: params_subsample\n"
     ]
    },
    {
     "data": {
      "text/plain": [
       "LGBMClassifier(colsample_bytree=0.7029693318019654,\n",
       "               learning_rate=0.11333569688388861, max_depth=7,\n",
       "               min_child_samples=80, n_jobs=4, num_leaves=19,\n",
       "               objective='binary', params_subsample=0.5170860303134346,\n",
       "               random_state=24, reg_alpha=4, reg_lambda=0, subsample_freq=1,\n",
       "               verbosity=-1)"
      ]
     },
     "execution_count": 23,
     "metadata": {},
     "output_type": "execute_result"
    }
   ],
   "source": [
    "lgb_model = lgb.LGBMClassifier(objective=\"binary\",\n",
    "                           subsample_freq=1,\n",
    "                           verbosity=-1,\n",
    "                           random_state=24,\n",
    "                           n_jobs=4, **lgb_hyperparam_dict)\n",
    "\n",
    "lgb_model.fit(X_train_balanced, y_train_balanced, verbose=-1)"
   ]
  },
  {
   "cell_type": "code",
   "execution_count": 72,
   "id": "405b6fe5-cf24-4f39-aa1b-f2a2816a5e2f",
   "metadata": {},
   "outputs": [
    {
     "name": "stdout",
     "output_type": "stream",
     "text": [
      "AUC Score of Best LightGBM Model on Test Set: 0.9278\n"
     ]
    }
   ],
   "source": [
    "y_preds = lgb_model.predict_proba(X_test)\n",
    "y_preds = [i[1] for i in y_preds]\n",
    "score = roc_auc_score(y_test, y_preds)\n",
    "\n",
    "print('AUC Score of Best LightGBM Model on Test Set:', round(score, 4))"
   ]
  },
  {
   "cell_type": "code",
   "execution_count": 64,
   "id": "2fd554ee-747b-4f07-a3ac-422586dc612c",
   "metadata": {},
   "outputs": [
    {
     "data": {
      "image/png": "[encoded data removed]",
      "text/plain": [
       "<Figure size 432x288 with 2 Axes>"
      ]
     },
     "metadata": {
      "needs_background": "light"
     },
     "output_type": "display_data"
    }
   ],
   "source": [
    "y_preds2 = lgb_model.predict(X_test)\n",
    "\n",
    "cf_matrix = confusion_matrix(y_test, y_preds2, normalize='all')\n",
    "plot_cf(cf_matrix)"
   ]
  },
  {
   "cell_type": "markdown",
   "id": "4ca651a1-a30e-4c36-ab13-6128b3f9c22c",
   "metadata": {},
   "source": [
    "# XGBoost"
   ]
  },
  {
   "cell_type": "code",
   "execution_count": 127,
   "id": "134d1628-f8c3-43cc-abcd-346ac3d7d045",
   "metadata": {},
   "outputs": [],
   "source": [
    "xgb_hyperparam_dict = {\n",
    "                     'colsample_bytree': 0.7310016759193707,\n",
    "                     'learning_rate': 0.01085683932685544,\n",
    "                     'max_depth': 7,\n",
    "                     'min_child_weight': 20,\n",
    "                     'n_estimators': 1000,\n",
    "                     'reg_alpha': 3,\n",
    "                     'reg_lambda': 1,\n",
    "                     'subsample': 0.5009186963118293,\n",
    "                      }"
   ]
  },
  {
   "cell_type": "code",
   "execution_count": 128,
   "id": "cc37dae6-3267-4fac-bb3a-20e1cc66fa4a",
   "metadata": {},
   "outputs": [
    {
     "data": {
      "text/plain": [
       "Pipeline(steps=[('preprocessor',\n",
       "                 ColumnTransformer(transformers=[('num_trans',\n",
       "                                                  Pipeline(steps=[('identity',\n",
       "                                                                   FunctionTransformer())]),\n",
       "                                                  ['age', 'duration',\n",
       "                                                   'campaign', 'previous']),\n",
       "                                                 ('cat_trans',\n",
       "                                                  Pipeline(steps=[('encoder',\n",
       "                                                                   TargetEncoder(min_samples_leaf=100,\n",
       "                                                                                 smoothing=5.0))]),\n",
       "                                                  ['job', 'education',\n",
       "                                                   'default', 'contact',\n",
       "                                                   'month', 'day_of_week',\n",
       "                                                   'poutcome', 'quarter'])])...\n",
       "                               importance_type=None, interaction_constraints='',\n",
       "                               learning_rate=0.01085683932685544,\n",
       "                               max_delta_step=0, max_depth=7,\n",
       "                               min_child_weight=20, missing=nan,\n",
       "                               monotone_constraints='()', n_estimators=1000,\n",
       "                               n_jobs=4, num_parallel_tree=1, predictor='auto',\n",
       "                               random_state=24, reg_alpha=3, reg_lambda=1,\n",
       "                               scale_pos_weight=1, subsample=0.5009186963118293,\n",
       "                               tree_method='hist', validate_parameters=1,\n",
       "                               verbosity=0))])"
      ]
     },
     "execution_count": 128,
     "metadata": {},
     "output_type": "execute_result"
    }
   ],
   "source": [
    "cat_transformer = Pipeline(steps=[('encoder', TargetEncoder(min_samples_leaf=100, smoothing=5))])\n",
    "num_transformer = Pipeline(steps=[('identity', FunctionTransformer(func = None))])\n",
    "\n",
    "preprocessor = ColumnTransformer(transformers=[\n",
    "                                                ('num_trans', num_transformer, num_features),\n",
    "                                                ('cat_trans', cat_transformer, cat_features)\n",
    "                                            ],\n",
    "                                remainder='drop')\n",
    "\n",
    "model = xgb.XGBClassifier(objective=\"binary:logistic\",\n",
    "                          verbosity=0,\n",
    "                          random_state=24,\n",
    "                          tree_method=\"hist\",\n",
    "                          enable_categorical=False,\n",
    "                          n_jobs=4, **xgb_hyperparam_dict)\n",
    "\n",
    "xgb_model = Pipeline(\n",
    "    steps=[(\"preprocessor\", preprocessor), (\"classifier\", model)]\n",
    ")\n",
    "\n",
    "xgb_model.fit(X_train_balanced, y_train_balanced)"
   ]
  },
  {
   "cell_type": "code",
   "execution_count": 129,
   "id": "3f9cf108-6c2b-4f6f-a604-d9558eb92205",
   "metadata": {},
   "outputs": [
    {
     "name": "stdout",
     "output_type": "stream",
     "text": [
      "AUC Score of Best XGBoost Model on Test Set: 0.9291\n"
     ]
    }
   ],
   "source": [
    "y_preds = xgb_model.predict_proba(X_test)\n",
    "y_preds = [i[1] for i in y_preds]\n",
    "score = roc_auc_score(y_test, y_preds)\n",
    "\n",
    "print('AUC Score of Best XGBoost Model on Test Set:', round(score, 4))"
   ]
  },
  {
   "cell_type": "code",
   "execution_count": 130,
   "id": "db0734fa-c390-4c9a-ab32-02a357049318",
   "metadata": {},
   "outputs": [
    {
     "data": {
      "image/png": "[encoded data removed]",
      "text/plain": [
       "<Figure size 432x288 with 2 Axes>"
      ]
     },
     "metadata": {
      "needs_background": "light"
     },
     "output_type": "display_data"
    }
   ],
   "source": [
    "y_preds2 = xgb_model.predict(X_test)\n",
    "\n",
    "cf_matrix = confusion_matrix(y_test, y_preds2, normalize='all')\n",
    "plot_cf(cf_matrix)"
   ]
  },
  {
   "cell_type": "markdown",
   "id": "8ee9680e-9514-4804-86d7-4cdbd42a2e12",
   "metadata": {},
   "source": [
    "# Stacking"
   ]
  },
  {
   "cell_type": "code",
   "execution_count": 56,
   "id": "3ccfd23b-7d0f-4312-aeb8-6ccd98d28280",
   "metadata": {},
   "outputs": [
    {
     "data": {
      "text/plain": [
       "StackingClassifier(cv=5,\n",
       "                   estimators=[('lgb',\n",
       "                                LGBMClassifier(colsample_bytree=0.7029693318019654,\n",
       "                                               learning_rate=0.11333569688388861,\n",
       "                                               max_depth=7,\n",
       "                                               min_child_samples=80, n_jobs=4,\n",
       "                                               num_leaves=19,\n",
       "                                               objective='binary',\n",
       "                                               params_subsample=0.5170860303134346,\n",
       "                                               random_state=24, reg_alpha=4,\n",
       "                                               reg_lambda=0, subsample_freq=1,\n",
       "                                               verbosity=-1)),\n",
       "                               ('xgb',\n",
       "                                Pipeline(steps=[('preprocessor'...\n",
       "                                                               min_child_weight=20,\n",
       "                                                               missing=nan,\n",
       "                                                               monotone_constraints='()',\n",
       "                                                               n_estimators=1000,\n",
       "                                                               n_jobs=4,\n",
       "                                                               num_parallel_tree=1,\n",
       "                                                               predictor='auto',\n",
       "                                                               random_state=24,\n",
       "                                                               reg_alpha=3,\n",
       "                                                               reg_lambda=1,\n",
       "                                                               scale_pos_weight=1,\n",
       "                                                               subsample=0.5009186963118293,\n",
       "                                                               tree_method='hist',\n",
       "                                                               validate_parameters=1,\n",
       "                                                               verbosity=0))]))],\n",
       "                   final_estimator=LogisticRegression(), n_jobs=-1,\n",
       "                   stack_method='predict_proba', verbose=3)"
      ]
     },
     "execution_count": 56,
     "metadata": {},
     "output_type": "execute_result"
    }
   ],
   "source": [
    "estimators = [\n",
    "    ('lgb', lgb_model),\n",
    "    ('xgb', xgb_model)\n",
    "]\n",
    "\n",
    "clf = StackingClassifier(estimators=estimators,\n",
    "                         final_estimator=LogisticRegression(),\n",
    "                         cv=5,\n",
    "                         stack_method='predict_proba',\n",
    "                         n_jobs=-1,\n",
    "                         verbose=3,\n",
    "                        )\n",
    "\n",
    "clf.fit(X_train_balanced, y_train_balanced)"
   ]
  },
  {
   "cell_type": "code",
   "execution_count": 73,
   "id": "fdf17045-3006-41a4-9661-373a6c301a47",
   "metadata": {},
   "outputs": [
    {
     "name": "stdout",
     "output_type": "stream",
     "text": [
      "AUC Score of Stacking Ensemble Model on Test Set: 0.9292\n"
     ]
    }
   ],
   "source": [
    "y_preds = clf.predict_proba(X_test)\n",
    "y_preds = [i[1] for i in y_preds]\n",
    "score = roc_auc_score(y_test, y_preds)\n",
    "\n",
    "print('AUC Score of Stacking Ensemble Model on Test Set:', round(score, 4))"
   ]
  },
  {
   "cell_type": "code",
   "execution_count": 66,
   "id": "8463de65-9902-40aa-9b7f-7c1ef4d26f36",
   "metadata": {},
   "outputs": [
    {
     "data": {
      "image/png": "[encoded data removed]",
      "text/plain": [
       "<Figure size 432x288 with 2 Axes>"
      ]
     },
     "metadata": {
      "needs_background": "light"
     },
     "output_type": "display_data"
    }
   ],
   "source": [
    "y_preds2 = clf.predict(X_test)\n",
    "\n",
    "cf_matrix = confusion_matrix(y_test, y_preds2, normalize='all')\n",
    "plot_cf(cf_matrix)"
   ]
  },
  {
   "cell_type": "markdown",
   "id": "58750328-4049-4219-b141-0178af8815ce",
   "metadata": {},
   "source": [
    "# Soft Voting"
   ]
  },
  {
   "cell_type": "code",
   "execution_count": 68,
   "id": "bc275b1e-5bd3-4a9d-a983-5ae73e7181c7",
   "metadata": {},
   "outputs": [
    {
     "data": {
      "text/plain": [
       "VotingClassifier(estimators=[('lgb',\n",
       "                              LGBMClassifier(colsample_bytree=0.7029693318019654,\n",
       "                                             learning_rate=0.11333569688388861,\n",
       "                                             max_depth=7, min_child_samples=80,\n",
       "                                             n_jobs=4, num_leaves=19,\n",
       "                                             objective='binary',\n",
       "                                             params_subsample=0.5170860303134346,\n",
       "                                             random_state=24, reg_alpha=4,\n",
       "                                             reg_lambda=0, subsample_freq=1,\n",
       "                                             verbosity=-1)),\n",
       "                             ('xgb',\n",
       "                              Pipeline(steps=[('preprocessor',\n",
       "                                               Column...\n",
       "                                                             learning_rate=0.01085683932685544,\n",
       "                                                             max_delta_step=0,\n",
       "                                                             max_depth=7,\n",
       "                                                             min_child_weight=20,\n",
       "                                                             missing=nan,\n",
       "                                                             monotone_constraints='()',\n",
       "                                                             n_estimators=1000,\n",
       "                                                             n_jobs=4,\n",
       "                                                             num_parallel_tree=1,\n",
       "                                                             predictor='auto',\n",
       "                                                             random_state=24,\n",
       "                                                             reg_alpha=3,\n",
       "                                                             reg_lambda=1,\n",
       "                                                             scale_pos_weight=1,\n",
       "                                                             subsample=0.5009186963118293,\n",
       "                                                             tree_method='hist',\n",
       "                                                             validate_parameters=1,\n",
       "                                                             verbosity=0))]))],\n",
       "                 n_jobs=-1, voting='soft')"
      ]
     },
     "execution_count": 68,
     "metadata": {},
     "output_type": "execute_result"
    }
   ],
   "source": [
    "estimators = [\n",
    "    ('lgb', lgb_model),\n",
    "    ('xgb', xgb_model)\n",
    "]\n",
    "\n",
    "clf_voting = VotingClassifier(estimators=estimators,\n",
    "                              voting='soft',\n",
    "                              n_jobs=-1)\n",
    "\n",
    "clf_voting.fit(X_train_balanced, y_train_balanced)"
   ]
  },
  {
   "cell_type": "code",
   "execution_count": 74,
   "id": "542ca7a7-b79b-4748-99e6-6c23553f07fe",
   "metadata": {},
   "outputs": [
    {
     "name": "stdout",
     "output_type": "stream",
     "text": [
      "AUC Score of Voting Ensemble Model on Test Set: 0.929\n"
     ]
    }
   ],
   "source": [
    "y_preds = clf_voting.predict_proba(X_test)\n",
    "y_preds = [i[1] for i in y_preds]\n",
    "score = roc_auc_score(y_test, y_preds)\n",
    "\n",
    "print('AUC Score of Voting Ensemble Model on Test Set:', round(score, 4))"
   ]
  },
  {
   "cell_type": "code",
   "execution_count": 70,
   "id": "bb123b20-ba98-4db1-9e0f-2f5c03a37346",
   "metadata": {},
   "outputs": [
    {
     "data": {
      "image/png": "[encoded data removed]",
      "text/plain": [
       "<Figure size 432x288 with 2 Axes>"
      ]
     },
     "metadata": {
      "needs_background": "light"
     },
     "output_type": "display_data"
    }
   ],
   "source": [
    "y_preds2 = clf_voting.predict(X_test)\n",
    "\n",
    "cf_matrix = confusion_matrix(y_test, y_preds2, normalize='all')\n",
    "plot_cf(cf_matrix)"
   ]
  },
  {
   "cell_type": "markdown",
   "id": "9356c3b3-68e8-464a-ab77-8e3cb27be254",
   "metadata": {},
   "source": [
    "# Learning Curve Check for Final XGBoost Model"
   ]
  },
  {
   "cell_type": "code",
   "execution_count": null,
   "id": "897fb9a4-dd44-49f6-a91d-7820fde4ee30",
   "metadata": {},
   "outputs": [],
   "source": [
    "train_scores, test_scores = [], []\n",
    "for train_size in range(1000, len(X_train), 1000):\n",
    "\n",
    "    sampler = RandomOverSampler(sampling_strategy='auto', random_state=24)\n",
    "    X_train_balanced, y_train_balanced = sampler.fit_resample(X_train.iloc[:train_size], y_train.iloc[:train_size])\n",
    "\n",
    "    xgb_hyperparam_dict = {\n",
    "                         'colsample_bytree': 0.7310016759193707,\n",
    "                         'learning_rate': 0.01085683932685544,\n",
    "                         'max_depth': 7,\n",
    "                         'min_child_weight': 20,\n",
    "                         'n_estimators': 1000,\n",
    "                         'reg_alpha': 3,\n",
    "                         'reg_lambda': 1,\n",
    "                         'subsample': 0.5009186963118293,\n",
    "                          }\n",
    "\n",
    "    cat_transformer = Pipeline(steps=[('encoder', TargetEncoder(min_samples_leaf=100, smoothing=5))])\n",
    "    num_transformer = Pipeline(steps=[('identity', FunctionTransformer(func = None))])\n",
    "\n",
    "    preprocessor = ColumnTransformer(transformers=[\n",
    "                                                    ('num_trans', num_transformer, num_features),\n",
    "                                                    ('cat_trans', cat_transformer, cat_features)\n",
    "                                                ],\n",
    "                                    remainder='drop')\n",
    "\n",
    "    model = xgb.XGBClassifier(objective=\"binary:logistic\",\n",
    "                              verbosity=0,\n",
    "                              random_state=24,\n",
    "                              tree_method=\"hist\",\n",
    "                              enable_categorical=False,\n",
    "                              n_jobs=4, **xgb_hyperparam_dict)\n",
    "\n",
    "    xgb_model_lc = Pipeline(\n",
    "        steps=[(\"preprocessor\", preprocessor), (\"classifier\", model)]\n",
    "    )\n",
    "\n",
    "    xgb_model_lc.fit(X_train_balanced, y_train_balanced)\n",
    "\n",
    "    y_preds_train = xgb_model_lc.predict_proba(X_train_balanced)[::,1]\n",
    "    y_preds_test = xgb_model_lc.predict_proba(X_test)[::,1]\n",
    "\n",
    "    score_train = roc_auc_score(y_train_balanced, y_preds_train)\n",
    "    score_test = roc_auc_score(y_test, y_preds_test)\n",
    "    train_scores.append(score_train)\n",
    "    test_scores.append(score_test)"
   ]
  },
  {
   "cell_type": "code",
   "execution_count": 106,
   "id": "d1332184-4d16-4150-a426-8e89a0a4b370",
   "metadata": {},
   "outputs": [],
   "source": [
    "train_scores = [1] + train_scores\n",
    "test_scores = [0.5] + test_scores\n",
    "\n",
    "learning_curve_df = pd.DataFrame(\n",
    "                                {'training_size': [1]+[i for i in range(1000, len(X_train), 1000)],\n",
    "                                 'training_score': train_scores,\n",
    "                                 'test_score': test_scores\n",
    "                                })"
   ]
  },
  {
   "cell_type": "code",
   "execution_count": 116,
   "id": "06fef940-cd5d-4cd0-8f68-54e823f4ba1e",
   "metadata": {},
   "outputs": [
    {
     "data": {
      "image/png": "[encoded data removed]",
      "text/plain": [
       "<Figure size 1440x432 with 1 Axes>"
      ]
     },
     "metadata": {
      "needs_background": "light"
     },
     "output_type": "display_data"
    }
   ],
   "source": [
    "plt.figure(figsize=(20,6))\n",
    "plt.plot('training_size', 'training_score', data=learning_curve_df, marker='o', color='skyblue', linewidth=2, label='training_score')\n",
    "plt.plot('training_size', 'test_score', data=learning_curve_df, marker='o', color='olive', linewidth=2, label='test_score')\n",
    "plt.title('Learning Curve for Final Model')\n",
    "plt.legend()\n",
    "plt.show()"
   ]
  },
  {
   "cell_type": "code",
   "execution_count": null,
   "id": "3009877f-6f7c-4d70-be76-aacdec255724",
   "metadata": {},
   "outputs": [],
   "source": []
  },
  {
   "cell_type": "code",
   "execution_count": null,
   "id": "04b0abd9-cd5c-4b50-b8bd-af1ea2c2c5ff",
   "metadata": {},
   "outputs": [],
   "source": []
  },
  {
   "cell_type": "code",
   "execution_count": null,
   "id": "a15d92f3-e3d8-4ffe-ac7d-7b6d8ff1c9aa",
   "metadata": {},
   "outputs": [],
   "source": []
  },
  {
   "cell_type": "code",
   "execution_count": null,
   "id": "e181a40a-493d-4d65-8bdd-96ac0918c46b",
   "metadata": {},
   "outputs": [],
   "source": []
  },
  {
   "cell_type": "code",
   "execution_count": null,
   "id": "1305e8e7-aaf0-4998-95b1-da9cdbdaca9a",
   "metadata": {},
   "outputs": [],
   "source": []
  },
  {
   "cell_type": "code",
   "execution_count": null,
   "id": "083b72a5-065f-40bc-98f4-78bce7e3abdd",
   "metadata": {},
   "outputs": [],
   "source": []
  },
  {
   "cell_type": "code",
   "execution_count": null,
   "id": "6a3e2faf-84e7-4696-9eaa-d673fa866469",
   "metadata": {},
   "outputs": [],
   "source": []
  },
  {
   "cell_type": "code",
   "execution_count": null,
   "id": "ae8083a4-0dbd-438a-838f-327cadf4ec93",
   "metadata": {},
   "outputs": [],
   "source": []
  },
  {
   "cell_type": "code",
   "execution_count": null,
   "id": "f7fd4d45-370f-4cca-8cc0-7e852c81a5cc",
   "metadata": {},
   "outputs": [],
   "source": []
  },
  {
   "cell_type": "code",
   "execution_count": null,
   "id": "0d515ede-54a5-43fe-93bb-9dd3c5bfd53b",
   "metadata": {},
   "outputs": [],
   "source": []
  },
  {
   "cell_type": "code",
   "execution_count": null,
   "id": "d231be0b-7af3-4ebd-a17d-019d123c0800",
   "metadata": {},
   "outputs": [],
   "source": []
  },
  {
   "cell_type": "code",
   "execution_count": null,
   "id": "80210f7d-e286-47c8-a714-b0cdcc0daa26",
   "metadata": {},
   "outputs": [],
   "source": []
  },
  {
   "cell_type": "code",
   "execution_count": null,
   "id": "5ee548f1-edce-44b5-a1ff-44bda34d0d99",
   "metadata": {},
   "outputs": [],
   "source": []
  }
 ],
 "metadata": {
  "kernelspec": {
   "display_name": "Python 3",
   "language": "python",
   "name": "python3"
  },
  "language_info": {
   "codemirror_mode": {
    "name": "ipython",
    "version": 3
   },
   "file_extension": ".py",
   "mimetype": "text/x-python",
   "name": "python",
   "nbconvert_exporter": "python",
   "pygments_lexer": "ipython3",
   "version": "3.8.8"
  }
 },
 "nbformat": 4,
 "nbformat_minor": 5
}
