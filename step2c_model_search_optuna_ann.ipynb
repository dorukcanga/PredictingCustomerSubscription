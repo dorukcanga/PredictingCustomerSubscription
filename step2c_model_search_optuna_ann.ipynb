{
 "cells": [
  {
   "cell_type": "code",
   "execution_count": 1,
   "id": "177c0b92-b0db-46b4-a273-8e7407963fff",
   "metadata": {},
   "outputs": [
    {
     "name": "stderr",
     "output_type": "stream",
     "text": [
      "/Users/dorukcanga/opt/anaconda3/lib/python3.8/site-packages/xgboost/compat.py:36: FutureWarning: pandas.Int64Index is deprecated and will be removed from pandas in a future version. Use pandas.Index with the appropriate dtype instead.\n",
      "  from pandas import MultiIndex, Int64Index\n"
     ]
    }
   ],
   "source": [
    "import pandas as pd\n",
    "import numpy as np\n",
    "import random\n",
    "import matplotlib.pyplot as plt\n",
    "import seaborn as sns\n",
    "import pickle\n",
    "import scipy.stats as stats\n",
    "import time\n",
    "\n",
    "from sklearn.linear_model import LogisticRegression\n",
    "from sklearn.neighbors import KNeighborsClassifier\n",
    "from sklearn.preprocessing import OneHotEncoder, KBinsDiscretizer, StandardScaler, MinMaxScaler, FunctionTransformer\n",
    "from sklearn.ensemble import RandomForestClassifier\n",
    "from sklearn.pipeline import Pipeline\n",
    "from sklearn.compose import ColumnTransformer\n",
    "from sklearn.model_selection import train_test_split, StratifiedKFold, GridSearchCV, RandomizedSearchCV\n",
    "from sklearn.metrics import roc_auc_score\n",
    "\n",
    "from imblearn.over_sampling import RandomOverSampler, SMOTE, SMOTENC\n",
    "from imblearn.pipeline import Pipeline as imb_pipeline\n",
    "from category_encoders.target_encoder import TargetEncoder\n",
    "\n",
    "import lightgbm as lgb\n",
    "import xgboost as xgb\n",
    "import optuna\n",
    "from optuna.integration import LightGBMPruningCallback\n",
    "\n",
    "import warnings\n",
    "warnings.filterwarnings('ignore')\n",
    "pd.options.mode.chained_assignment = None\n",
    "\n",
    "%matplotlib inline"
   ]
  },
  {
   "cell_type": "code",
   "execution_count": 2,
   "id": "68735c2c-cfbf-46d8-8b44-8560eb9e6a26",
   "metadata": {},
   "outputs": [],
   "source": [
    "import tensorflow as tf\n",
    "from tensorflow.keras.layers import Dense, Dropout\n",
    "from tensorflow.keras.optimizers import Adam, RMSprop\n",
    "from tensorflow.keras import Sequential\n",
    "from tensorflow.keras.regularizers import l1, l2, l1_l2\n",
    "from tensorflow.keras.wrappers.scikit_learn import KerasClassifier, KerasRegressor\n",
    "from tensorflow.keras.callbacks import EarlyStopping\n",
    "from tensorflow.keras.losses import CategoricalCrossentropy\n",
    "from tensorflow.keras.utils import to_categorical"
   ]
  },
  {
   "cell_type": "code",
   "execution_count": 3,
   "id": "09a5f0f8-2523-409a-bbdf-f7fa5b729158",
   "metadata": {},
   "outputs": [],
   "source": [
    "from helper_codes.model_wrappers import ANNWrapper"
   ]
  },
  {
   "cell_type": "markdown",
   "id": "254faf2c-8c40-49b7-9586-4dce59ecfda8",
   "metadata": {},
   "source": [
    "# Read Data"
   ]
  },
  {
   "cell_type": "code",
   "execution_count": 4,
   "id": "f3571845-ae2b-4887-b140-d48199a916f8",
   "metadata": {},
   "outputs": [],
   "source": [
    "train_data = pd.read_pickle('./data/train_file_eng.pkl')"
   ]
  },
  {
   "cell_type": "code",
   "execution_count": 5,
   "id": "1419e6b4-557a-4ab7-841a-0920a763e006",
   "metadata": {},
   "outputs": [],
   "source": [
    "feature_set = ['age', 'job', 'education', 'default',\n",
    "               'contact', 'month', 'day_of_week', 'duration', 'campaign', 'previous',\n",
    "               'poutcome', 'quarter']\n",
    "\n",
    "cat_features = ['job', 'education', 'default',\n",
    "                'contact', 'month', 'day_of_week', 'poutcome', 'quarter']\n",
    "\n",
    "num_features = ['age', 'duration', 'campaign', 'previous']"
   ]
  },
  {
   "cell_type": "code",
   "execution_count": 6,
   "id": "40d8d757-990c-4d16-8ff2-e4089f55ebd8",
   "metadata": {},
   "outputs": [],
   "source": [
    "for col_name in cat_features:\n",
    "    train_data[col_name] = train_data[col_name].astype('category')"
   ]
  },
  {
   "cell_type": "markdown",
   "id": "a827f0e2-f632-47c6-b2f5-87d9b4a763c7",
   "metadata": {},
   "source": [
    "# Train Test Split"
   ]
  },
  {
   "cell_type": "code",
   "execution_count": 7,
   "id": "a06d233e-52cc-4518-b1b8-08494328caa1",
   "metadata": {},
   "outputs": [],
   "source": [
    "X_train, X_test, y_train, y_test = train_test_split(train_data[feature_set], train_data.y_encoded, random_state=24, test_size=0.2)"
   ]
  },
  {
   "cell_type": "code",
   "execution_count": 8,
   "id": "9aacda65-6be2-4fe0-b2cc-b1fe35a9afee",
   "metadata": {},
   "outputs": [],
   "source": [
    "X_train.reset_index(drop=True, inplace=True)\n",
    "X_test.reset_index(drop=True, inplace=True)\n",
    "y_train.reset_index(drop=True, inplace=True)\n",
    "y_test.reset_index(drop=True, inplace=True)"
   ]
  },
  {
   "cell_type": "code",
   "execution_count": 9,
   "id": "6c8484a0-74e6-48fe-930b-135d2e2b6905",
   "metadata": {},
   "outputs": [
    {
     "data": {
      "text/plain": [
       "((26328, 12), (6582, 12))"
      ]
     },
     "execution_count": 9,
     "metadata": {},
     "output_type": "execute_result"
    }
   ],
   "source": [
    "X_train.shape, X_test.shape"
   ]
  },
  {
   "cell_type": "markdown",
   "id": "7297765d-fe33-4a67-8072-51a6012b2da7",
   "metadata": {},
   "source": [
    "# Hyperparameter Tuning for ANN"
   ]
  },
  {
   "cell_type": "code",
   "execution_count": 131,
   "id": "a1af6ba7-d0d1-4c3e-bf3b-878bbea87cfd",
   "metadata": {},
   "outputs": [],
   "source": [
    "#Random Over Sampling\n",
    "sampler = RandomOverSampler(sampling_strategy='auto', random_state=24)\n",
    "X_train, y_train = sampler.fit_resample(X_train, y_train)\n",
    "\n",
    "#One Hot Encoding\n",
    "X_train = pd.get_dummies(X_train, columns=cat_features, drop_first=True)\n",
    "X_test = pd.get_dummies(X_test, columns=cat_features, drop_first=True)\n",
    "\n",
    "#Min Max Scaling\n",
    "sc = MinMaxScaler()\n",
    "X_train = sc.fit_transform(X_train)\n",
    "X_test = sc.transform(X_test)"
   ]
  },
  {
   "cell_type": "code",
   "execution_count": 10,
   "id": "2be9f7ca-70fc-4da5-bc01-5158a003c1c9",
   "metadata": {},
   "outputs": [
    {
     "data": {
      "text/plain": [
       "((26328, 12), (6582, 12))"
      ]
     },
     "execution_count": 10,
     "metadata": {},
     "output_type": "execute_result"
    }
   ],
   "source": [
    "X_train.shape, X_test.shape"
   ]
  },
  {
   "cell_type": "code",
   "execution_count": 12,
   "id": "64d7da42-874d-48c6-b183-f3a8cda3bc6e",
   "metadata": {},
   "outputs": [],
   "source": [
    "layer_list = [(20, 1), (10, 1), (60, 1), (80, 1), (16, 1), (8, 1), (4, 1),\n",
    "              (8, 4, 1), (16, 8, 1), (16, 4, 1), (32, 8, 1), (20, 10, 1),\n",
    "              (60, 30, 15, 1), (32, 16, 4, 1), (20, 10, 5, 1), (64, 16, 4, 1), (16, 8, 4, 1)\n",
    "             ]"
   ]
  },
  {
   "cell_type": "code",
   "execution_count": 30,
   "id": "16d09899-f89d-4984-b23d-06a9ed21852a",
   "metadata": {},
   "outputs": [],
   "source": [
    "def ann_objective(trial, X, y, layer_list):\n",
    "    \n",
    "    #Param Grid for Lightgbm\n",
    "    param_grid = {\n",
    "        \"layers\": trial.suggest_categorical(\"layers\", layer_list),\n",
    "        \"learning_rate\": trial.suggest_float(\"learning_rate\", 0.01, 0.5, log=True),\n",
    "        \"layer_activation\": trial.suggest_categorical(\"layer_activation\", ['relu', 'sigmoid', 'tanh']),\n",
    "        \"kernel_init\": trial.suggest_categorical(\"kernel_init\", ['uniform', 'lecun_uniform', 'normal', 'glorot_uniform']),\n",
    "        \"optimizer\": trial.suggest_categorical(\"optimizer\", ['rmsprop', 'adam']),\n",
    "        \"batch_size\": trial.suggest_categorical(\"batch_size\", [32, 64, 128]),\n",
    "        \"epochs\": trial.suggest_categorical(\"epochs\", [50]),\n",
    "        \"dropout\": trial.suggest_categorical(\"dropout\", [0, 0.1, 0.2, 0.3, 0.4, 0.5]),\n",
    "        #\"l1_reg\": trial.suggest_float(\"l1_reg\", 0, 1),\n",
    "        #\"l2_reg\": trial.suggest_float(\"l2_reg\", 0, 1),\n",
    "    }\n",
    "    \n",
    "    #Cross Validation with StratifiedKFold\n",
    "    scores = []\n",
    "    cv = StratifiedKFold(n_splits=5, shuffle=True, random_state=24)\n",
    "    for train_idx, test_idx in cv.split(X, y):\n",
    "        X_train_fold, X_test_fold = X.iloc[train_idx], X.iloc[test_idx]\n",
    "        y_train_fold, y_test_fold = y[train_idx], y[test_idx]\n",
    "        \n",
    "        #OverSampling\n",
    "        sampler = RandomOverSampler(sampling_strategy='auto', random_state=24)\n",
    "        X_train_fold2, y_train_fold2 = sampler.fit_resample(X_train_fold, y_train_fold)\n",
    "        \n",
    "        #Pipeline for One Hot Encoding & Min Max Scaling\n",
    "        cat_transformer = Pipeline(steps=[('encoder', OneHotEncoder(sparse=False))])\n",
    "\n",
    "        num_transformer = Pipeline(steps=[('scaler', MinMaxScaler())])\n",
    "\n",
    "        preprocessor = ColumnTransformer(transformers=[\n",
    "                                                        ('num_trans', num_transformer, num_features),\n",
    "                                                        ('cat_trans', cat_transformer, cat_features)\n",
    "                                                    ],\n",
    "                                        remainder='drop')\n",
    "        \n",
    "        X_train_fold2 = preprocessor.fit_transform(X_train_fold2)\n",
    "        X_test_fold = preprocessor.transform(X_test_fold)\n",
    "        \n",
    "        X_train_fold2 = pd.DataFrame(X_train_fold2)\n",
    "        X_test_fold = pd.DataFrame(X_test_fold)\n",
    "        y_train_fold2 = pd.Series(y_train_fold2)\n",
    "        y_test_fold = pd.Series(y_test_fold)\n",
    "        \n",
    "\n",
    "        tf.keras.backend.clear_session()\n",
    "        ann_model = ANNWrapper(input_shape=X_train_fold2.shape[1],\n",
    "                               loss='binary_crossentropy',\n",
    "                               metrics=[tf.keras.metrics.AUC()],\n",
    "                               out_activation='sigmoid',\n",
    "                               callbacks=[EarlyStopping(patience=10)],\n",
    "                               validation_data=(X_test_fold, y_test_fold),\n",
    "                               model_type='classifier',\n",
    "                               return_probability=True, **param_grid)\n",
    "\n",
    "        ann_model.fit(X_train_fold2, y_train_fold2)\n",
    "\n",
    "        y_preds_fold = ann_model.predict(X_test_fold)[::,1]\n",
    "        fold_score = roc_auc_score(y_test_fold, y_preds_fold)\n",
    "        scores.append(fold_score)\n",
    "        \n",
    "    return np.mean(scores)"
   ]
  },
  {
   "cell_type": "code",
   "execution_count": null,
   "id": "fe56134c-a16b-48a3-a36b-637da0ba77e8",
   "metadata": {
    "tags": []
   },
   "outputs": [],
   "source": [
    "study = optuna.create_study(direction=\"maximize\", study_name=\"ANN\")\n",
    "func = lambda trial: ann_objective(trial, X_train, y_train, layer_list)\n",
    "study.optimize(func, n_trials=20)"
   ]
  },
  {
   "cell_type": "code",
   "execution_count": 32,
   "id": "143eaa27-fb28-4516-95f5-a54ee81262be",
   "metadata": {},
   "outputs": [
    {
     "data": {
      "text/html": [
       "<div>\n",
       "<style scoped>\n",
       "    .dataframe tbody tr th:only-of-type {\n",
       "        vertical-align: middle;\n",
       "    }\n",
       "\n",
       "    .dataframe tbody tr th {\n",
       "        vertical-align: top;\n",
       "    }\n",
       "\n",
       "    .dataframe thead th {\n",
       "        text-align: right;\n",
       "    }\n",
       "</style>\n",
       "<table border=\"1\" class=\"dataframe\">\n",
       "  <thead>\n",
       "    <tr style=\"text-align: right;\">\n",
       "      <th></th>\n",
       "      <th>number</th>\n",
       "      <th>value</th>\n",
       "      <th>datetime_start</th>\n",
       "      <th>datetime_complete</th>\n",
       "      <th>duration</th>\n",
       "      <th>params_batch_size</th>\n",
       "      <th>params_dropout</th>\n",
       "      <th>params_epochs</th>\n",
       "      <th>params_kernel_init</th>\n",
       "      <th>params_layer_activation</th>\n",
       "      <th>params_layers</th>\n",
       "      <th>params_learning_rate</th>\n",
       "      <th>params_optimizer</th>\n",
       "      <th>state</th>\n",
       "    </tr>\n",
       "  </thead>\n",
       "  <tbody>\n",
       "    <tr>\n",
       "      <th>12</th>\n",
       "      <td>12</td>\n",
       "      <td>0.919776</td>\n",
       "      <td>2022-04-07 20:03:39.294951</td>\n",
       "      <td>2022-04-07 20:05:08.530220</td>\n",
       "      <td>0 days 00:01:29.235269</td>\n",
       "      <td>32</td>\n",
       "      <td>0.4</td>\n",
       "      <td>50</td>\n",
       "      <td>uniform</td>\n",
       "      <td>tanh</td>\n",
       "      <td>(16, 1)</td>\n",
       "      <td>0.010825</td>\n",
       "      <td>rmsprop</td>\n",
       "      <td>COMPLETE</td>\n",
       "    </tr>\n",
       "    <tr>\n",
       "      <th>19</th>\n",
       "      <td>19</td>\n",
       "      <td>0.918515</td>\n",
       "      <td>2022-04-07 20:13:45.756320</td>\n",
       "      <td>2022-04-07 20:15:22.359275</td>\n",
       "      <td>0 days 00:01:36.602955</td>\n",
       "      <td>32</td>\n",
       "      <td>0.5</td>\n",
       "      <td>50</td>\n",
       "      <td>glorot_uniform</td>\n",
       "      <td>sigmoid</td>\n",
       "      <td>(60, 1)</td>\n",
       "      <td>0.012327</td>\n",
       "      <td>rmsprop</td>\n",
       "      <td>COMPLETE</td>\n",
       "    </tr>\n",
       "    <tr>\n",
       "      <th>7</th>\n",
       "      <td>7</td>\n",
       "      <td>0.917302</td>\n",
       "      <td>2022-04-07 19:56:20.246595</td>\n",
       "      <td>2022-04-07 19:58:02.954969</td>\n",
       "      <td>0 days 00:01:42.708374</td>\n",
       "      <td>32</td>\n",
       "      <td>0.5</td>\n",
       "      <td>50</td>\n",
       "      <td>glorot_uniform</td>\n",
       "      <td>relu</td>\n",
       "      <td>(20, 1)</td>\n",
       "      <td>0.031384</td>\n",
       "      <td>adam</td>\n",
       "      <td>COMPLETE</td>\n",
       "    </tr>\n",
       "    <tr>\n",
       "      <th>17</th>\n",
       "      <td>17</td>\n",
       "      <td>0.916993</td>\n",
       "      <td>2022-04-07 20:10:31.068109</td>\n",
       "      <td>2022-04-07 20:11:51.583609</td>\n",
       "      <td>0 days 00:01:20.515500</td>\n",
       "      <td>32</td>\n",
       "      <td>0.3</td>\n",
       "      <td>50</td>\n",
       "      <td>glorot_uniform</td>\n",
       "      <td>relu</td>\n",
       "      <td>(16, 8, 1)</td>\n",
       "      <td>0.017257</td>\n",
       "      <td>adam</td>\n",
       "      <td>COMPLETE</td>\n",
       "    </tr>\n",
       "    <tr>\n",
       "      <th>13</th>\n",
       "      <td>13</td>\n",
       "      <td>0.916469</td>\n",
       "      <td>2022-04-07 20:05:08.531371</td>\n",
       "      <td>2022-04-07 20:06:36.384383</td>\n",
       "      <td>0 days 00:01:27.853012</td>\n",
       "      <td>32</td>\n",
       "      <td>0.5</td>\n",
       "      <td>50</td>\n",
       "      <td>uniform</td>\n",
       "      <td>relu</td>\n",
       "      <td>(16, 1)</td>\n",
       "      <td>0.010008</td>\n",
       "      <td>rmsprop</td>\n",
       "      <td>COMPLETE</td>\n",
       "    </tr>\n",
       "  </tbody>\n",
       "</table>\n",
       "</div>"
      ],
      "text/plain": [
       "    number     value             datetime_start          datetime_complete  \\\n",
       "12      12  0.919776 2022-04-07 20:03:39.294951 2022-04-07 20:05:08.530220   \n",
       "19      19  0.918515 2022-04-07 20:13:45.756320 2022-04-07 20:15:22.359275   \n",
       "7        7  0.917302 2022-04-07 19:56:20.246595 2022-04-07 19:58:02.954969   \n",
       "17      17  0.916993 2022-04-07 20:10:31.068109 2022-04-07 20:11:51.583609   \n",
       "13      13  0.916469 2022-04-07 20:05:08.531371 2022-04-07 20:06:36.384383   \n",
       "\n",
       "                 duration  params_batch_size  params_dropout  params_epochs  \\\n",
       "12 0 days 00:01:29.235269                 32             0.4             50   \n",
       "19 0 days 00:01:36.602955                 32             0.5             50   \n",
       "7  0 days 00:01:42.708374                 32             0.5             50   \n",
       "17 0 days 00:01:20.515500                 32             0.3             50   \n",
       "13 0 days 00:01:27.853012                 32             0.5             50   \n",
       "\n",
       "   params_kernel_init params_layer_activation params_layers  \\\n",
       "12            uniform                    tanh       (16, 1)   \n",
       "19     glorot_uniform                 sigmoid       (60, 1)   \n",
       "7      glorot_uniform                    relu       (20, 1)   \n",
       "17     glorot_uniform                    relu    (16, 8, 1)   \n",
       "13            uniform                    relu       (16, 1)   \n",
       "\n",
       "    params_learning_rate params_optimizer     state  \n",
       "12              0.010825          rmsprop  COMPLETE  \n",
       "19              0.012327          rmsprop  COMPLETE  \n",
       "7               0.031384             adam  COMPLETE  \n",
       "17              0.017257             adam  COMPLETE  \n",
       "13              0.010008          rmsprop  COMPLETE  "
      ]
     },
     "execution_count": 32,
     "metadata": {},
     "output_type": "execute_result"
    }
   ],
   "source": [
    "study.trials_dataframe().sort_values('value', ascending=False).head()"
   ]
  },
  {
   "cell_type": "markdown",
   "id": "ef1f4c61-567f-426f-95ef-934205f013fa",
   "metadata": {},
   "source": [
    "# Final Test"
   ]
  },
  {
   "cell_type": "code",
   "execution_count": 33,
   "id": "e2e22f54-5e69-4ff9-9d8f-a148e3430105",
   "metadata": {},
   "outputs": [],
   "source": [
    "#Random Over Sampling\n",
    "sampler = RandomOverSampler(sampling_strategy='auto', random_state=24)\n",
    "X_train, y_train = sampler.fit_resample(X_train, y_train)\n",
    "\n",
    "#One Hot Encoding\n",
    "X_train = pd.get_dummies(X_train, columns=cat_features, drop_first=True)\n",
    "X_test = pd.get_dummies(X_test, columns=cat_features, drop_first=True)\n",
    "\n",
    "#Min Max Scaling\n",
    "sc = MinMaxScaler()\n",
    "X_train = sc.fit_transform(X_train)\n",
    "X_test = sc.transform(X_test)"
   ]
  },
  {
   "cell_type": "code",
   "execution_count": 34,
   "id": "af6afd91-06a9-4593-9e08-2275b8140b5d",
   "metadata": {},
   "outputs": [
    {
     "data": {
      "text/plain": [
       "((46720, 40), (6582, 40))"
      ]
     },
     "execution_count": 34,
     "metadata": {},
     "output_type": "execute_result"
    }
   ],
   "source": [
    "X_train.shape, X_test.shape"
   ]
  },
  {
   "cell_type": "code",
   "execution_count": 36,
   "id": "9d6e75d0-b212-453d-867e-6dc1b0877037",
   "metadata": {},
   "outputs": [],
   "source": [
    "ann_hyperparam_dict = {\n",
    "    \"layers\": (16,1),\n",
    "    \"learning_rate\": 0.010825,\n",
    "    \"layer_activation\": \"tanh\",\n",
    "    \"kernel_init\": \"uniform\",\n",
    "    \"optimizer\": \"rmsprop\",\n",
    "    \"batch_size\": 32,\n",
    "    \"epochs\": 50,\n",
    "    \"dropout\": 0.4,\n",
    "}"
   ]
  },
  {
   "cell_type": "code",
   "execution_count": 37,
   "id": "5591deea-0da9-4fb6-b562-5ae1f1148a94",
   "metadata": {},
   "outputs": [
    {
     "name": "stdout",
     "output_type": "stream",
     "text": [
      "Epoch 1/50\n",
      "1460/1460 [==============================] - 2s 832us/step - loss: 0.4302 - auc: 0.8902 - val_loss: 0.5092 - val_auc: 0.9050\n",
      "Epoch 2/50\n",
      "1460/1460 [==============================] - 1s 751us/step - loss: 0.3932 - auc: 0.9065 - val_loss: 0.3713 - val_auc: 0.9112\n",
      "Epoch 3/50\n",
      "1460/1460 [==============================] - 1s 821us/step - loss: 0.3865 - auc: 0.9075 - val_loss: 0.4046 - val_auc: 0.9107\n",
      "Epoch 4/50\n",
      "1460/1460 [==============================] - 1s 766us/step - loss: 0.3832 - auc: 0.9077 - val_loss: 0.4352 - val_auc: 0.9103\n",
      "Epoch 5/50\n",
      "1460/1460 [==============================] - 1s 770us/step - loss: 0.3798 - auc: 0.9085 - val_loss: 0.3737 - val_auc: 0.9126\n",
      "Epoch 6/50\n",
      "1460/1460 [==============================] - 1s 770us/step - loss: 0.3776 - auc: 0.9089 - val_loss: 0.3602 - val_auc: 0.9140\n",
      "Epoch 7/50\n",
      "1460/1460 [==============================] - 1s 759us/step - loss: 0.3771 - auc: 0.9089 - val_loss: 0.3989 - val_auc: 0.9150\n",
      "Epoch 8/50\n",
      "1460/1460 [==============================] - 1s 765us/step - loss: 0.3741 - auc: 0.9103 - val_loss: 0.3799 - val_auc: 0.9146\n",
      "Epoch 9/50\n",
      "1460/1460 [==============================] - 1s 766us/step - loss: 0.3745 - auc: 0.9100 - val_loss: 0.3741 - val_auc: 0.9161\n",
      "Epoch 10/50\n",
      "1460/1460 [==============================] - 1s 776us/step - loss: 0.3727 - auc: 0.9105 - val_loss: 0.3616 - val_auc: 0.9145\n",
      "Epoch 11/50\n",
      "1460/1460 [==============================] - 1s 763us/step - loss: 0.3719 - auc: 0.9110 - val_loss: 0.3569 - val_auc: 0.9174\n",
      "Epoch 12/50\n",
      "1460/1460 [==============================] - 1s 767us/step - loss: 0.3702 - auc: 0.9118 - val_loss: 0.3823 - val_auc: 0.9188\n",
      "Epoch 13/50\n",
      "1460/1460 [==============================] - 1s 800us/step - loss: 0.3684 - auc: 0.9125 - val_loss: 0.3789 - val_auc: 0.9173\n",
      "Epoch 14/50\n",
      "1460/1460 [==============================] - 1s 873us/step - loss: 0.3687 - auc: 0.9122 - val_loss: 0.4396 - val_auc: 0.9162\n",
      "Epoch 15/50\n",
      "1460/1460 [==============================] - 1s 758us/step - loss: 0.3677 - auc: 0.9127 - val_loss: 0.3591 - val_auc: 0.9180\n",
      "Epoch 16/50\n",
      "1460/1460 [==============================] - 1s 773us/step - loss: 0.3669 - auc: 0.9129 - val_loss: 0.3781 - val_auc: 0.9170\n",
      "Epoch 17/50\n",
      "1460/1460 [==============================] - 1s 761us/step - loss: 0.3672 - auc: 0.9125 - val_loss: 0.4134 - val_auc: 0.9162\n",
      "Epoch 18/50\n",
      "1460/1460 [==============================] - 1s 810us/step - loss: 0.3659 - auc: 0.9133 - val_loss: 0.4011 - val_auc: 0.9175\n",
      "Epoch 19/50\n",
      "1460/1460 [==============================] - 1s 763us/step - loss: 0.3661 - auc: 0.9131 - val_loss: 0.3638 - val_auc: 0.9162\n",
      "Epoch 20/50\n",
      "1460/1460 [==============================] - 1s 849us/step - loss: 0.3678 - auc: 0.9120 - val_loss: 0.3637 - val_auc: 0.9156\n",
      "Epoch 21/50\n",
      "1460/1460 [==============================] - 1s 909us/step - loss: 0.3666 - auc: 0.9124 - val_loss: 0.3525 - val_auc: 0.9158\n",
      "Epoch 22/50\n",
      "1460/1460 [==============================] - 1s 872us/step - loss: 0.3648 - auc: 0.9134 - val_loss: 0.3883 - val_auc: 0.9177\n",
      "Epoch 23/50\n",
      "1460/1460 [==============================] - 1s 818us/step - loss: 0.3657 - auc: 0.9129 - val_loss: 0.3675 - val_auc: 0.9179\n",
      "Epoch 24/50\n",
      "1460/1460 [==============================] - 1s 978us/step - loss: 0.3645 - auc: 0.9135 - val_loss: 0.3687 - val_auc: 0.9159\n",
      "Epoch 25/50\n",
      "1460/1460 [==============================] - 1s 860us/step - loss: 0.3638 - auc: 0.9139 - val_loss: 0.4024 - val_auc: 0.9163\n",
      "Epoch 26/50\n",
      "1460/1460 [==============================] - 1s 974us/step - loss: 0.3655 - auc: 0.9128 - val_loss: 0.3708 - val_auc: 0.9174\n",
      "Epoch 27/50\n",
      "1460/1460 [==============================] - 1s 860us/step - loss: 0.3646 - auc: 0.9136 - val_loss: 0.3876 - val_auc: 0.9158\n",
      "Epoch 28/50\n",
      "1460/1460 [==============================] - 1s 754us/step - loss: 0.3643 - auc: 0.9137 - val_loss: 0.4192 - val_auc: 0.9154\n",
      "Epoch 29/50\n",
      "1460/1460 [==============================] - 1s 770us/step - loss: 0.3633 - auc: 0.9137 - val_loss: 0.3767 - val_auc: 0.9161\n",
      "Epoch 30/50\n",
      "1460/1460 [==============================] - 1s 831us/step - loss: 0.3625 - auc: 0.9142 - val_loss: 0.3492 - val_auc: 0.9162\n",
      "Epoch 31/50\n",
      "1460/1460 [==============================] - 1s 871us/step - loss: 0.3623 - auc: 0.9142 - val_loss: 0.4040 - val_auc: 0.9162\n",
      "Epoch 32/50\n",
      "1460/1460 [==============================] - 1s 866us/step - loss: 0.3651 - auc: 0.9128 - val_loss: 0.3835 - val_auc: 0.9174\n",
      "Epoch 33/50\n",
      "1460/1460 [==============================] - 1s 775us/step - loss: 0.3643 - auc: 0.9133 - val_loss: 0.4028 - val_auc: 0.9174\n",
      "Epoch 34/50\n",
      "1460/1460 [==============================] - 1s 781us/step - loss: 0.3644 - auc: 0.9135 - val_loss: 0.4056 - val_auc: 0.9163\n",
      "Epoch 35/50\n",
      "1460/1460 [==============================] - 1s 805us/step - loss: 0.3641 - auc: 0.9133 - val_loss: 0.3840 - val_auc: 0.9168\n",
      "Epoch 36/50\n",
      "1460/1460 [==============================] - 1s 870us/step - loss: 0.3635 - auc: 0.9135 - val_loss: 0.3729 - val_auc: 0.9169\n",
      "Epoch 37/50\n",
      "1460/1460 [==============================] - 1s 836us/step - loss: 0.3629 - auc: 0.9143 - val_loss: 0.3765 - val_auc: 0.9176\n",
      "Epoch 38/50\n",
      "1460/1460 [==============================] - 1s 834us/step - loss: 0.3624 - auc: 0.9143 - val_loss: 0.3794 - val_auc: 0.9164\n",
      "Epoch 39/50\n",
      "1460/1460 [==============================] - 1s 774us/step - loss: 0.3615 - auc: 0.9145 - val_loss: 0.3619 - val_auc: 0.9158\n",
      "Epoch 40/50\n",
      "1460/1460 [==============================] - 1s 779us/step - loss: 0.3617 - auc: 0.9145 - val_loss: 0.3829 - val_auc: 0.9153\n"
     ]
    }
   ],
   "source": [
    "tf.keras.backend.clear_session()\n",
    "ann_model = ANNWrapper(input_shape=X_train.shape[1],\n",
    "                       loss='binary_crossentropy',\n",
    "                       metrics=[tf.keras.metrics.AUC()],\n",
    "                       out_activation='sigmoid',\n",
    "                       callbacks=[EarlyStopping(patience=10)],\n",
    "                       validation_data=(X_test, y_test),\n",
    "                       model_type='classifier',\n",
    "                       return_probability=True, **ann_hyperparam_dict)\n",
    "\n",
    "ann_model.fit(X_train, y_train)"
   ]
  },
  {
   "cell_type": "code",
   "execution_count": 38,
   "id": "ad932776-c223-4a07-9f12-0b5b4745bb20",
   "metadata": {},
   "outputs": [
    {
     "data": {
      "text/plain": [
       "0.9154282202058972"
      ]
     },
     "execution_count": 38,
     "metadata": {},
     "output_type": "execute_result"
    }
   ],
   "source": [
    "y_preds = ann_model.predict(X_test)[::,1]\n",
    "score = roc_auc_score(y_test, y_preds)\n",
    "score"
   ]
  },
  {
   "cell_type": "code",
   "execution_count": null,
   "id": "c7701e35-252e-4e5b-8dd9-e4e5235c5f51",
   "metadata": {},
   "outputs": [],
   "source": []
  },
  {
   "cell_type": "code",
   "execution_count": null,
   "id": "33c73de1-6724-4f2e-a2be-5019af6da0bd",
   "metadata": {},
   "outputs": [],
   "source": []
  }
 ],
 "metadata": {
  "kernelspec": {
   "display_name": "Python 3",
   "language": "python",
   "name": "python3"
  },
  "language_info": {
   "codemirror_mode": {
    "name": "ipython",
    "version": 3
   },
   "file_extension": ".py",
   "mimetype": "text/x-python",
   "name": "python",
   "nbconvert_exporter": "python",
   "pygments_lexer": "ipython3",
   "version": "3.8.8"
  }
 },
 "nbformat": 4,
 "nbformat_minor": 5
}
