{
 "cells": [
  {
   "cell_type": "code",
   "execution_count": 11,
   "id": "177c0b92-b0db-46b4-a273-8e7407963fff",
   "metadata": {},
   "outputs": [],
   "source": [
    "import pandas as pd\n",
    "import numpy as np\n",
    "import random\n",
    "import matplotlib.pyplot as plt\n",
    "import seaborn as sns\n",
    "\n",
    "from sklearn.linear_model import LogisticRegression\n",
    "from sklearn.neighbors import KNeighborsClassifier\n",
    "from sklearn.preprocessing import OneHotEncoder, KBinsDiscretizer, StandardScaler, MinMaxScaler, FunctionTransformer\n",
    "from sklearn.ensemble import RandomForestClassifier\n",
    "from sklearn.pipeline import Pipeline\n",
    "from sklearn.compose import ColumnTransformer\n",
    "from sklearn.model_selection import train_test_split, StratifiedKFold, GridSearchCV, RandomizedSearchCV\n",
    "from sklearn.metrics import roc_auc_score\n",
    "\n",
    "from imblearn.over_sampling import RandomOverSampler, SMOTE, SMOTENC\n",
    "from imblearn.pipeline import Pipeline as imb_pipeline\n",
    "from category_encoders.target_encoder import TargetEncoder\n",
    "\n",
    "import lightgbm as lgb\n",
    "import xgboost as xgb\n",
    "import optuna\n",
    "from optuna.integration import LightGBMPruningCallback\n",
    "\n",
    "import warnings\n",
    "warnings.filterwarnings('ignore')\n",
    "pd.options.mode.chained_assignment = None\n",
    "\n",
    "%matplotlib inline"
   ]
  },
  {
   "cell_type": "markdown",
   "id": "254faf2c-8c40-49b7-9586-4dce59ecfda8",
   "metadata": {},
   "source": [
    "# Read Data"
   ]
  },
  {
   "cell_type": "code",
   "execution_count": 2,
   "id": "f3571845-ae2b-4887-b140-d48199a916f8",
   "metadata": {},
   "outputs": [],
   "source": [
    "train_data = pd.read_pickle('./data/train_file_eng.pkl')"
   ]
  },
  {
   "cell_type": "code",
   "execution_count": 3,
   "id": "34575075-ed4f-4677-91c0-71ef59666a9f",
   "metadata": {},
   "outputs": [
    {
     "data": {
      "text/html": [
       "<div>\n",
       "<style scoped>\n",
       "    .dataframe tbody tr th:only-of-type {\n",
       "        vertical-align: middle;\n",
       "    }\n",
       "\n",
       "    .dataframe tbody tr th {\n",
       "        vertical-align: top;\n",
       "    }\n",
       "\n",
       "    .dataframe thead th {\n",
       "        text-align: right;\n",
       "    }\n",
       "</style>\n",
       "<table border=\"1\" class=\"dataframe\">\n",
       "  <thead>\n",
       "    <tr style=\"text-align: right;\">\n",
       "      <th></th>\n",
       "      <th>age</th>\n",
       "      <th>job</th>\n",
       "      <th>marital</th>\n",
       "      <th>education</th>\n",
       "      <th>default</th>\n",
       "      <th>housing</th>\n",
       "      <th>loan</th>\n",
       "      <th>contact</th>\n",
       "      <th>month</th>\n",
       "      <th>day_of_week</th>\n",
       "      <th>duration</th>\n",
       "      <th>campaign</th>\n",
       "      <th>previous</th>\n",
       "      <th>poutcome</th>\n",
       "      <th>y</th>\n",
       "      <th>y_encoded</th>\n",
       "      <th>quarter</th>\n",
       "    </tr>\n",
       "  </thead>\n",
       "  <tbody>\n",
       "    <tr>\n",
       "      <th>0</th>\n",
       "      <td>49</td>\n",
       "      <td>blue-collar</td>\n",
       "      <td>married</td>\n",
       "      <td>basic.9y</td>\n",
       "      <td>unknown</td>\n",
       "      <td>no</td>\n",
       "      <td>no</td>\n",
       "      <td>cellular</td>\n",
       "      <td>nov</td>\n",
       "      <td>wed</td>\n",
       "      <td>227</td>\n",
       "      <td>4</td>\n",
       "      <td>0</td>\n",
       "      <td>nonexistent</td>\n",
       "      <td>no</td>\n",
       "      <td>0</td>\n",
       "      <td>q4</td>\n",
       "    </tr>\n",
       "  </tbody>\n",
       "</table>\n",
       "</div>"
      ],
      "text/plain": [
       "   age          job  marital education  default housing loan   contact month  \\\n",
       "0   49  blue-collar  married  basic.9y  unknown      no   no  cellular   nov   \n",
       "\n",
       "  day_of_week  duration  campaign  previous     poutcome   y  y_encoded  \\\n",
       "0         wed       227         4         0  nonexistent  no          0   \n",
       "\n",
       "  quarter  \n",
       "0      q4  "
      ]
     },
     "execution_count": 3,
     "metadata": {},
     "output_type": "execute_result"
    }
   ],
   "source": [
    "train_data.head(1)"
   ]
  },
  {
   "cell_type": "code",
   "execution_count": 4,
   "id": "fd926335-380e-4abf-b1b1-3b7d618117c1",
   "metadata": {},
   "outputs": [
    {
     "data": {
      "text/plain": [
       "Index(['age', 'job', 'marital', 'education', 'default', 'housing', 'loan',\n",
       "       'contact', 'month', 'day_of_week', 'duration', 'campaign', 'previous',\n",
       "       'poutcome', 'y', 'y_encoded', 'quarter'],\n",
       "      dtype='object')"
      ]
     },
     "execution_count": 4,
     "metadata": {},
     "output_type": "execute_result"
    }
   ],
   "source": [
    "train_data.columns"
   ]
  },
  {
   "cell_type": "code",
   "execution_count": 5,
   "id": "1419e6b4-557a-4ab7-841a-0920a763e006",
   "metadata": {},
   "outputs": [],
   "source": [
    "feature_set = ['age', 'job', 'marital', 'education', 'default', 'housing', 'loan',\n",
    "               'contact', 'month', 'day_of_week', 'duration', 'campaign', 'previous',\n",
    "               'poutcome', 'quarter']\n",
    "\n",
    "cat_features = ['job', 'marital', 'education', 'default', 'housing', 'loan',\n",
    "                'contact', 'month', 'day_of_week', 'poutcome', 'quarter']\n",
    "\n",
    "num_features = ['age', 'duration', 'campaign', 'previous']"
   ]
  },
  {
   "cell_type": "code",
   "execution_count": 6,
   "id": "40d8d757-990c-4d16-8ff2-e4089f55ebd8",
   "metadata": {},
   "outputs": [],
   "source": [
    "for col_name in cat_features:\n",
    "    train_data[col_name] = train_data[col_name].astype('category')"
   ]
  },
  {
   "cell_type": "markdown",
   "id": "a827f0e2-f632-47c6-b2f5-87d9b4a763c7",
   "metadata": {},
   "source": [
    "# Train Test Split"
   ]
  },
  {
   "cell_type": "code",
   "execution_count": 7,
   "id": "a06d233e-52cc-4518-b1b8-08494328caa1",
   "metadata": {},
   "outputs": [],
   "source": [
    "X_train, X_test, y_train, y_test = train_test_split(train_data[feature_set], train_data.y_encoded, random_state=24, test_size=0.2)"
   ]
  },
  {
   "cell_type": "code",
   "execution_count": 8,
   "id": "9aacda65-6be2-4fe0-b2cc-b1fe35a9afee",
   "metadata": {},
   "outputs": [],
   "source": [
    "X_train.reset_index(drop=True, inplace=True)\n",
    "X_test.reset_index(drop=True, inplace=True)\n",
    "y_train.reset_index(drop=True, inplace=True)\n",
    "y_test.reset_index(drop=True, inplace=True)"
   ]
  },
  {
   "cell_type": "code",
   "execution_count": 9,
   "id": "6c8484a0-74e6-48fe-930b-135d2e2b6905",
   "metadata": {},
   "outputs": [
    {
     "data": {
      "text/plain": [
       "((26328, 15), (6582, 15))"
      ]
     },
     "execution_count": 9,
     "metadata": {},
     "output_type": "execute_result"
    }
   ],
   "source": [
    "X_train.shape, X_test.shape"
   ]
  },
  {
   "cell_type": "markdown",
   "id": "7297765d-fe33-4a67-8072-51a6012b2da7",
   "metadata": {},
   "source": [
    "# Hyperparameter Tuning with GridSearchCV"
   ]
  },
  {
   "cell_type": "markdown",
   "id": "5b353d89-7a9c-49a2-a6a5-a65121e8e335",
   "metadata": {},
   "source": [
    "## Logistic Regression"
   ]
  },
  {
   "cell_type": "code",
   "execution_count": 15,
   "id": "2685607a-46da-4a86-aaa9-4dcab81dd1ad",
   "metadata": {},
   "outputs": [],
   "source": [
    "results_df = pd.DataFrame(columns=['penalty', 'C', 'score'])\n",
    "for pen in ['l1', 'l2', 'elasticnet', 'none']:\n",
    "    for c in [1,2,5,10]:\n",
    "\n",
    "        scores = []\n",
    "        cv = StratifiedKFold(n_splits=5, shuffle=True, random_state=24)\n",
    "        for train_idx, test_idx in cv.split(X_train, y_train):\n",
    "            X_train_fold, X_test_fold = X_train.iloc[train_idx], X_train.iloc[test_idx]\n",
    "            y_train_fold, y_test_fold = y_train[train_idx], y_train[test_idx]\n",
    "\n",
    "            # Over Sampling\n",
    "            sampler = RandomOverSampler(sampling_strategy='auto', random_state=24)\n",
    "            X_train_fold2, y_train_fold2 = sampler.fit_resample(X_train_fold, y_train_fold)\n",
    "\n",
    "            #Pipeline\n",
    "            cat_transformer = Pipeline(steps=[('encoder', OneHotEncoder())])\n",
    "\n",
    "            num_transformer = Pipeline(steps=[('scaler', StandardScaler())])\n",
    "\n",
    "            preprocessor = ColumnTransformer(transformers=[\n",
    "                                                            ('num_trans', num_transformer, num_features),\n",
    "                                                            ('cat_trans', cat_transformer, cat_features)\n",
    "                                                        ],\n",
    "                                            remainder='drop')\n",
    "\n",
    "            model = LogisticRegression(penalty=pen, C=c, solver='saga', random_state=24)\n",
    "            if pen == 'elasticnet':\n",
    "                model.set_params(l1_ratio=0.5)\n",
    "\n",
    "            clf = Pipeline(steps=[(\"preprocessor\", preprocessor),\n",
    "                                  (\"classifier\", model)])\n",
    "\n",
    "            #Fit Pipeline\n",
    "            clf.fit(X_train_fold2, y_train_fold2)\n",
    "\n",
    "            #Predict\n",
    "            y_preds_fold = clf.predict_proba(X_test_fold)\n",
    "            y_preds_fold = [i[1] for i in y_preds_fold]\n",
    "            fold_score = roc_auc_score(y_test_fold, y_preds_fold)\n",
    "            scores.append(fold_score)\n",
    "            \n",
    "        results_df.loc[len(results_df)] = [pen, c, np.mean(scores)]"
   ]
  },
  {
   "cell_type": "code",
   "execution_count": 25,
   "id": "9ef41703-3144-4933-944f-b518b45478de",
   "metadata": {},
   "outputs": [
    {
     "data": {
      "text/html": [
       "<div>\n",
       "<style scoped>\n",
       "    .dataframe tbody tr th:only-of-type {\n",
       "        vertical-align: middle;\n",
       "    }\n",
       "\n",
       "    .dataframe tbody tr th {\n",
       "        vertical-align: top;\n",
       "    }\n",
       "\n",
       "    .dataframe thead th {\n",
       "        text-align: right;\n",
       "    }\n",
       "</style>\n",
       "<table border=\"1\" class=\"dataframe\">\n",
       "  <thead>\n",
       "    <tr style=\"text-align: right;\">\n",
       "      <th></th>\n",
       "      <th>penalty</th>\n",
       "      <th>C</th>\n",
       "      <th>score</th>\n",
       "    </tr>\n",
       "  </thead>\n",
       "  <tbody>\n",
       "    <tr>\n",
       "      <th>0</th>\n",
       "      <td>l1</td>\n",
       "      <td>1</td>\n",
       "      <td>0.914940</td>\n",
       "    </tr>\n",
       "    <tr>\n",
       "      <th>1</th>\n",
       "      <td>l1</td>\n",
       "      <td>2</td>\n",
       "      <td>0.914933</td>\n",
       "    </tr>\n",
       "    <tr>\n",
       "      <th>8</th>\n",
       "      <td>elasticnet</td>\n",
       "      <td>1</td>\n",
       "      <td>0.914932</td>\n",
       "    </tr>\n",
       "    <tr>\n",
       "      <th>9</th>\n",
       "      <td>elasticnet</td>\n",
       "      <td>2</td>\n",
       "      <td>0.914927</td>\n",
       "    </tr>\n",
       "    <tr>\n",
       "      <th>4</th>\n",
       "      <td>l2</td>\n",
       "      <td>1</td>\n",
       "      <td>0.914926</td>\n",
       "    </tr>\n",
       "  </tbody>\n",
       "</table>\n",
       "</div>"
      ],
      "text/plain": [
       "      penalty  C     score\n",
       "0          l1  1  0.914940\n",
       "1          l1  2  0.914933\n",
       "8  elasticnet  1  0.914932\n",
       "9  elasticnet  2  0.914927\n",
       "4          l2  1  0.914926"
      ]
     },
     "execution_count": 25,
     "metadata": {},
     "output_type": "execute_result"
    }
   ],
   "source": [
    "results_df.sort_values('score', ascending=False).head()"
   ]
  },
  {
   "cell_type": "markdown",
   "id": "ff765372-12dd-45ee-8acd-ab15f6e45596",
   "metadata": {},
   "source": [
    "## KNN"
   ]
  },
  {
   "cell_type": "code",
   "execution_count": 26,
   "id": "434b3360-2cad-417c-b36b-f58fb45aba20",
   "metadata": {},
   "outputs": [],
   "source": [
    "results_df2 = pd.DataFrame(columns=['n', 'w', 'score'])\n",
    "for n in [5,10,15,25,50,100]:\n",
    "    for w in ['uniform', 'distance']:\n",
    "\n",
    "        scores = []\n",
    "        cv = StratifiedKFold(n_splits=5, shuffle=True, random_state=24)\n",
    "        for train_idx, test_idx in cv.split(X_train, y_train):\n",
    "            X_train_fold, X_test_fold = X_train.iloc[train_idx], X_train.iloc[test_idx]\n",
    "            y_train_fold, y_test_fold = y_train[train_idx], y_train[test_idx]\n",
    "\n",
    "            # Over Sampling\n",
    "            sampler = RandomOverSampler(sampling_strategy='auto', random_state=24)\n",
    "            X_train_fold2, y_train_fold2 = sampler.fit_resample(X_train_fold, y_train_fold)\n",
    "\n",
    "            #Pipeline\n",
    "            cat_transformer = Pipeline(steps=[('encoder', OneHotEncoder())])\n",
    "\n",
    "            num_transformer = Pipeline(steps=[('scaler', MinMaxScaler())])\n",
    "\n",
    "            preprocessor = ColumnTransformer(transformers=[\n",
    "                                                            ('num_trans', num_transformer, num_features),\n",
    "                                                            ('cat_trans', cat_transformer, cat_features)\n",
    "                                                        ],\n",
    "                                            remainder='drop')\n",
    "\n",
    "            model = KNeighborsClassifier(n_neighbors=n, weights=w)\n",
    "\n",
    "            clf = Pipeline(steps=[(\"preprocessor\", preprocessor),\n",
    "                                  (\"classifier\", model)])\n",
    "\n",
    "            #Fit Pipeline\n",
    "            clf.fit(X_train_fold2, y_train_fold2)\n",
    "\n",
    "            #Predict\n",
    "            y_preds_fold = clf.predict_proba(X_test_fold)\n",
    "            y_preds_fold = [i[1] for i in y_preds_fold]\n",
    "            fold_score = roc_auc_score(y_test_fold, y_preds_fold)\n",
    "            scores.append(fold_score)\n",
    "            \n",
    "        results_df2.loc[len(results_df2)] = [n, w, np.mean(scores)]"
   ]
  },
  {
   "cell_type": "code",
   "execution_count": 27,
   "id": "3f8ee947-43f8-4375-b4be-37638db2848b",
   "metadata": {},
   "outputs": [
    {
     "data": {
      "text/html": [
       "<div>\n",
       "<style scoped>\n",
       "    .dataframe tbody tr th:only-of-type {\n",
       "        vertical-align: middle;\n",
       "    }\n",
       "\n",
       "    .dataframe tbody tr th {\n",
       "        vertical-align: top;\n",
       "    }\n",
       "\n",
       "    .dataframe thead th {\n",
       "        text-align: right;\n",
       "    }\n",
       "</style>\n",
       "<table border=\"1\" class=\"dataframe\">\n",
       "  <thead>\n",
       "    <tr style=\"text-align: right;\">\n",
       "      <th></th>\n",
       "      <th>n</th>\n",
       "      <th>w</th>\n",
       "      <th>score</th>\n",
       "    </tr>\n",
       "  </thead>\n",
       "  <tbody>\n",
       "    <tr>\n",
       "      <th>10</th>\n",
       "      <td>100</td>\n",
       "      <td>uniform</td>\n",
       "      <td>0.833726</td>\n",
       "    </tr>\n",
       "    <tr>\n",
       "      <th>8</th>\n",
       "      <td>50</td>\n",
       "      <td>uniform</td>\n",
       "      <td>0.821971</td>\n",
       "    </tr>\n",
       "    <tr>\n",
       "      <th>11</th>\n",
       "      <td>100</td>\n",
       "      <td>distance</td>\n",
       "      <td>0.817164</td>\n",
       "    </tr>\n",
       "    <tr>\n",
       "      <th>6</th>\n",
       "      <td>25</td>\n",
       "      <td>uniform</td>\n",
       "      <td>0.801594</td>\n",
       "    </tr>\n",
       "    <tr>\n",
       "      <th>9</th>\n",
       "      <td>50</td>\n",
       "      <td>distance</td>\n",
       "      <td>0.800958</td>\n",
       "    </tr>\n",
       "  </tbody>\n",
       "</table>\n",
       "</div>"
      ],
      "text/plain": [
       "      n         w     score\n",
       "10  100   uniform  0.833726\n",
       "8    50   uniform  0.821971\n",
       "11  100  distance  0.817164\n",
       "6    25   uniform  0.801594\n",
       "9    50  distance  0.800958"
      ]
     },
     "execution_count": 27,
     "metadata": {},
     "output_type": "execute_result"
    }
   ],
   "source": [
    "results_df2.sort_values('score', ascending=False).head()"
   ]
  },
  {
   "cell_type": "markdown",
   "id": "80fa8873-410c-45b2-948c-c251d3ef5f0a",
   "metadata": {},
   "source": [
    "## Random Forest Classifier"
   ]
  },
  {
   "cell_type": "code",
   "execution_count": 28,
   "id": "4d9a77f4-2d74-470a-aeef-9be9e2396bd7",
   "metadata": {},
   "outputs": [],
   "source": [
    "results_df3 = pd.DataFrame(columns=['num_tree', 'max_depth', 'score'])\n",
    "for num_tree_item in [100, 200, 300, 400, 500, 750]:\n",
    "    for max_depth_item in [2, 4, 6, 10]:\n",
    "\n",
    "        scores = []\n",
    "        cv = StratifiedKFold(n_splits=5, shuffle=True, random_state=24)\n",
    "        for train_idx, test_idx in cv.split(X_train, y_train):\n",
    "            X_train_fold, X_test_fold = X_train.iloc[train_idx], X_train.iloc[test_idx]\n",
    "            y_train_fold, y_test_fold = y_train[train_idx], y_train[test_idx]\n",
    "\n",
    "            # Over Sampling\n",
    "            sampler = RandomOverSampler(sampling_strategy='auto', random_state=24)\n",
    "            X_train_fold2, y_train_fold2 = sampler.fit_resample(X_train_fold, y_train_fold)\n",
    "\n",
    "            #Pipeline\n",
    "            cat_transformer = Pipeline(steps=[('encoder', TargetEncoder(min_samples_leaf=100, smoothing=5))])\n",
    "\n",
    "            num_transformer = Pipeline(steps=[('identity', FunctionTransformer(func = None))])\n",
    "\n",
    "            preprocessor = ColumnTransformer(transformers=[\n",
    "                                                            ('num_trans', num_transformer, num_features),\n",
    "                                                            ('cat_trans', cat_transformer, cat_features)\n",
    "                                                        ],\n",
    "                                            remainder='drop')\n",
    "\n",
    "            model = RandomForestClassifier(n_estimators=num_tree_item, max_depth=max_depth_item, random_state=24)\n",
    "\n",
    "            clf = Pipeline(steps=[(\"preprocessor\", preprocessor),\n",
    "                                  (\"classifier\", model)])\n",
    "\n",
    "            #Fit Pipeline\n",
    "            clf.fit(X_train_fold2, y_train_fold2)\n",
    "\n",
    "            #Predict\n",
    "            y_preds_fold = clf.predict_proba(X_test_fold)\n",
    "            y_preds_fold = [i[1] for i in y_preds_fold]\n",
    "            fold_score = roc_auc_score(y_test_fold, y_preds_fold)\n",
    "            scores.append(fold_score)\n",
    "            \n",
    "        results_df3.loc[len(results_df3)] = [num_tree_item, max_depth_item, np.mean(scores)]"
   ]
  },
  {
   "cell_type": "code",
   "execution_count": 29,
   "id": "cd7ab5d1-ba98-4457-af1a-d417eb1fee35",
   "metadata": {},
   "outputs": [
    {
     "data": {
      "text/html": [
       "<div>\n",
       "<style scoped>\n",
       "    .dataframe tbody tr th:only-of-type {\n",
       "        vertical-align: middle;\n",
       "    }\n",
       "\n",
       "    .dataframe tbody tr th {\n",
       "        vertical-align: top;\n",
       "    }\n",
       "\n",
       "    .dataframe thead th {\n",
       "        text-align: right;\n",
       "    }\n",
       "</style>\n",
       "<table border=\"1\" class=\"dataframe\">\n",
       "  <thead>\n",
       "    <tr style=\"text-align: right;\">\n",
       "      <th></th>\n",
       "      <th>num_tree</th>\n",
       "      <th>max_depth</th>\n",
       "      <th>score</th>\n",
       "    </tr>\n",
       "  </thead>\n",
       "  <tbody>\n",
       "    <tr>\n",
       "      <th>23</th>\n",
       "      <td>750.0</td>\n",
       "      <td>10.0</td>\n",
       "      <td>0.927118</td>\n",
       "    </tr>\n",
       "    <tr>\n",
       "      <th>19</th>\n",
       "      <td>500.0</td>\n",
       "      <td>10.0</td>\n",
       "      <td>0.927079</td>\n",
       "    </tr>\n",
       "    <tr>\n",
       "      <th>15</th>\n",
       "      <td>400.0</td>\n",
       "      <td>10.0</td>\n",
       "      <td>0.927039</td>\n",
       "    </tr>\n",
       "    <tr>\n",
       "      <th>11</th>\n",
       "      <td>300.0</td>\n",
       "      <td>10.0</td>\n",
       "      <td>0.926967</td>\n",
       "    </tr>\n",
       "    <tr>\n",
       "      <th>7</th>\n",
       "      <td>200.0</td>\n",
       "      <td>10.0</td>\n",
       "      <td>0.926908</td>\n",
       "    </tr>\n",
       "  </tbody>\n",
       "</table>\n",
       "</div>"
      ],
      "text/plain": [
       "    num_tree  max_depth     score\n",
       "23     750.0       10.0  0.927118\n",
       "19     500.0       10.0  0.927079\n",
       "15     400.0       10.0  0.927039\n",
       "11     300.0       10.0  0.926967\n",
       "7      200.0       10.0  0.926908"
      ]
     },
     "execution_count": 29,
     "metadata": {},
     "output_type": "execute_result"
    }
   ],
   "source": [
    "results_df3.sort_values('score', ascending=False).head()"
   ]
  },
  {
   "cell_type": "code",
   "execution_count": null,
   "id": "53b01cd2-6c75-4693-b5ec-23fe83809020",
   "metadata": {},
   "outputs": [],
   "source": []
  }
 ],
 "metadata": {
  "kernelspec": {
   "display_name": "Python 3",
   "language": "python",
   "name": "python3"
  },
  "language_info": {
   "codemirror_mode": {
    "name": "ipython",
    "version": 3
   },
   "file_extension": ".py",
   "mimetype": "text/x-python",
   "name": "python",
   "nbconvert_exporter": "python",
   "pygments_lexer": "ipython3",
   "version": "3.8.8"
  }
 },
 "nbformat": 4,
 "nbformat_minor": 5
}
